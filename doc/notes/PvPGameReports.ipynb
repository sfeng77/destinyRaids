{
 "cells": [
  {
   "cell_type": "markdown",
   "metadata": {},
   "source": [
    "## PvP game report exploration\n",
    "\n",
    "In this note we download some pvp game reports and try to analyze them."
   ]
  },
  {
   "cell_type": "markdown",
   "metadata": {},
   "source": [
    "### Parametes"
   ]
  },
  {
   "cell_type": "code",
   "execution_count": 6,
   "metadata": {
    "collapsed": true
   },
   "outputs": [],
   "source": [
    "import requests"
   ]
  },
  {
   "cell_type": "code",
   "execution_count": 7,
   "metadata": {
    "collapsed": true
   },
   "outputs": [],
   "source": [
    "apiKey = \"cd2254b7d1d24127abb7a98a3b0ea10e\"\n",
    "HEADERS = {\"X-API-Key\": apiKey}\n",
    "BUNGIE = \"https://www.bungie.net/platform/Destiny/\"\n",
    "AccountType = \"2\""
   ]
  },
  {
   "cell_type": "code",
   "execution_count": 8,
   "metadata": {
    "collapsed": true
   },
   "outputs": [],
   "source": [
    "mid = '4611686018428698313'"
   ]
  },
  {
   "cell_type": "code",
   "execution_count": 9,
   "metadata": {
    "collapsed": true
   },
   "outputs": [],
   "source": [
    "cid = '2305843009250714821'"
   ]
  },
  {
   "cell_type": "markdown",
   "metadata": {},
   "source": [
    "### Getting game instance id"
   ]
  },
  {
   "cell_type": "code",
   "execution_count": 10,
   "metadata": {
    "collapsed": true
   },
   "outputs": [],
   "source": [
    "url = BUNGIE + \"Stats/ActivityHistory/\" + AccountType + '/' + mid + '/' + cid + '/?mode=AllPvP&count=10'"
   ]
  },
  {
   "cell_type": "code",
   "execution_count": 11,
   "metadata": {
    "collapsed": true
   },
   "outputs": [],
   "source": [
    "r = requests.get(url, headers=HEADERS)"
   ]
  },
  {
   "cell_type": "code",
   "execution_count": 12,
   "metadata": {
    "collapsed": true
   },
   "outputs": [],
   "source": [
    "res = r.json()['Response']"
   ]
  },
  {
   "cell_type": "code",
   "execution_count": 13,
   "metadata": {
    "collapsed": true
   },
   "outputs": [],
   "source": [
    "acts = res['data']['activities']"
   ]
  },
  {
   "cell_type": "code",
   "execution_count": 14,
   "metadata": {
    "collapsed": true
   },
   "outputs": [],
   "source": [
    "PvPinstanceId = [a['activityDetails']['instanceId'] for a in acts]"
   ]
  },
  {
   "cell_type": "code",
   "execution_count": 15,
   "metadata": {
    "collapsed": false
   },
   "outputs": [
    {
     "data": {
      "text/plain": [
       "[u'6384227424',\n",
       " u'6384205568',\n",
       " u'6384180296',\n",
       " u'6384156839',\n",
       " u'6384137947',\n",
       " u'6384113384',\n",
       " u'6384093482',\n",
       " u'6384061436',\n",
       " u'5672390977',\n",
       " u'5672314277']"
      ]
     },
     "execution_count": 15,
     "metadata": {},
     "output_type": "execute_result"
    }
   ],
   "source": [
    "PvPinstanceId"
   ]
  },
  {
   "cell_type": "markdown",
   "metadata": {},
   "source": [
    "### Getting game reports"
   ]
  },
  {
   "cell_type": "code",
   "execution_count": 16,
   "metadata": {
    "collapsed": true
   },
   "outputs": [],
   "source": [
    "def getReport(instanceId):\n",
    "    url = BUNGIE + '/Stats/PostGameCarnageReport/' + instanceId + '/'\n",
    "    r = requests.get(url, headers=HEADERS)\n",
    "    return r.json()['Response']['data']"
   ]
  },
  {
   "cell_type": "code",
   "execution_count": 17,
   "metadata": {
    "collapsed": true
   },
   "outputs": [],
   "source": [
    "reports = [getReport(iid) for iid in PvPinstanceId]"
   ]
  },
  {
   "cell_type": "code",
   "execution_count": 26,
   "metadata": {
    "collapsed": false
   },
   "outputs": [
    {
     "data": {
      "text/plain": [
       "{u'basic': {u'displayValue': u'6', u'value': 6.0}}"
      ]
     },
     "execution_count": 26,
     "metadata": {},
     "output_type": "execute_result"
    }
   ],
   "source": [
    "reports[0]['entries'][0]['extended']['values']['weaponKillsSuper']"
   ]
  },
  {
   "cell_type": "code",
   "execution_count": 27,
   "metadata": {
    "collapsed": false
   },
   "outputs": [
    {
     "ename": "KeyError",
     "evalue": "'weaponKillsRelic'",
     "output_type": "error",
     "traceback": [
      "\u001b[0;31m---------------------------------------------------------------------------\u001b[0m",
      "\u001b[0;31mKeyError\u001b[0m                                  Traceback (most recent call last)",
      "\u001b[0;32m<ipython-input-27-42ab2d982e73>\u001b[0m in \u001b[0;36m<module>\u001b[0;34m()\u001b[0m\n\u001b[0;32m----> 1\u001b[0;31m \u001b[0mreports\u001b[0m\u001b[0;34m[\u001b[0m\u001b[0;36m0\u001b[0m\u001b[0;34m]\u001b[0m\u001b[0;34m[\u001b[0m\u001b[0;34m'entries'\u001b[0m\u001b[0;34m]\u001b[0m\u001b[0;34m[\u001b[0m\u001b[0;36m0\u001b[0m\u001b[0;34m]\u001b[0m\u001b[0;34m[\u001b[0m\u001b[0;34m'extended'\u001b[0m\u001b[0;34m]\u001b[0m\u001b[0;34m[\u001b[0m\u001b[0;34m'values'\u001b[0m\u001b[0;34m]\u001b[0m\u001b[0;34m[\u001b[0m\u001b[0;34m'weaponKillsRelic'\u001b[0m\u001b[0;34m]\u001b[0m\u001b[0;34m\u001b[0m\u001b[0m\n\u001b[0m",
      "\u001b[0;31mKeyError\u001b[0m: 'weaponKillsRelic'"
     ]
    }
   ],
   "source": [
    "reports[0]['entries'][0]['extended']['values']['weaponKillsRelic']"
   ]
  },
  {
   "cell_type": "code",
   "execution_count": 39,
   "metadata": {
    "collapsed": false
   },
   "outputs": [
    {
     "name": "stdout",
     "output_type": "stream",
     "text": [
      "player Class Titan\n",
      "player Class Warlock\n",
      "player Class Hunter\n",
      "player Class Titan\n",
      "player Class Hunter\n",
      "player Class Warlock\n",
      "player Class Hunter\n",
      "player Class Titan\n",
      "player Class Hunter\n",
      "player Class Warlock\n",
      "player Class Hunter\n",
      "player Class Warlock\n",
      "player Class Hunter\n",
      "player Class Warlock\n",
      "player Class Warlock\n",
      "player Class Titan\n",
      "player Class Warlock\n",
      "player Class Titan\n",
      "player Class Hunter\n",
      "player Class Hunter\n",
      "player Class Hunter\n",
      "player Class Titan\n",
      "player Class Titan\n",
      "player Class Warlock\n",
      "player Class Warlock\n",
      "player Class Titan\n",
      "player Class Hunter\n",
      "player Class Hunter\n",
      "player Class Warlock\n",
      "player Class Hunter\n",
      "player Class Hunter\n",
      "player Class Warlock\n",
      "player Class Hunter\n",
      "player Class Warlock\n",
      "player Class Warlock\n",
      "player Class Hunter\n",
      "player Class Warlock\n",
      "player Class Hunter\n",
      "player Class Hunter\n",
      "player Class Hunter\n",
      "player Class Hunter\n",
      "player Class Warlock\n",
      "player Class Hunter\n",
      "player Class Hunter\n",
      "player Class Hunter\n",
      "player Class Warlock\n",
      "player Class Warlock\n",
      "player Class Hunter\n",
      "player Class Hunter\n",
      "player Class Warlock\n",
      "player Class Titan\n",
      "player Class Titan\n",
      "player Class Hunter\n",
      "player Class Titan\n",
      "player Class Hunter\n",
      "player Class Warlock\n",
      "player Class Hunter\n",
      "player Class Warlock\n",
      "player Class Warlock\n",
      "player Class Titan\n",
      "player Class Hunter\n",
      "player Class Hunter\n",
      "player Class Titan\n",
      "player Class Titan\n",
      "player Class Titan\n",
      "player Class Warlock\n",
      "player Class Hunter\n",
      "player Class Hunter\n",
      "player Class Warlock\n",
      "player Class Titan\n",
      "player Class Titan\n",
      "player Class Warlock\n",
      "player Class Hunter\n",
      "player Class Hunter\n",
      "player Class Hunter\n",
      "player Class Titan\n",
      "player Class Hunter\n",
      "player Class Warlock\n",
      "player Class Warlock\n",
      "player Class Warlock\n",
      "player Class Warlock\n",
      "player Class Titan\n",
      "player Class Warlock\n",
      "player Class Warlock\n",
      "player Class Hunter\n",
      "player Class Hunter\n",
      "player Class Warlock\n",
      "player Class Hunter\n",
      "player Class Hunter\n",
      "player Class Warlock\n",
      "player Class Warlock\n",
      "player Class Warlock\n",
      "player Class Titan\n",
      "player Class Hunter\n",
      "player Class Titan\n",
      "player Class Hunter\n",
      "player Class Titan\n",
      "player Class Hunter\n",
      "player Class Warlock\n",
      "player Class Warlock\n",
      "player Class Warlock\n",
      "player Class Hunter\n",
      "player Class Titan\n",
      "player Class Titan\n",
      "player Class Hunter\n",
      "player Class Warlock\n",
      "player Class Titan\n",
      "player Class Warlock\n",
      "player Class Titan\n",
      "player Class Warlock\n",
      "player Class Warlock\n",
      "player Class Titan\n",
      "player Class Hunter\n",
      "player Class Hunter\n",
      "player Class Warlock\n",
      "player Class Warlock\n",
      "player Class Warlock\n",
      "player Class Hunter\n",
      "player Class Warlock\n",
      "player Class Hunter\n",
      "player Class Warlock\n",
      "player Class Titan\n",
      "player Class Hunter\n",
      "player Class Hunter\n",
      "player Class Titan\n",
      "player Class Titan\n",
      "player Class Hunter\n",
      "player Class Warlock\n",
      "player Class Warlock\n",
      "player Class Hunter\n",
      "player Class Titan\n",
      "player Class Warlock\n",
      "player Class Titan\n"
     ]
    }
   ],
   "source": [
    "for r in reports:\n",
    "    for p in r['entries']:\n",
    "        print \"player Class\", p['player']['characterClass']\n",
    "        # if 'weaponKillsSuper' in p['extended']['values']:\n",
    "        #    print 'SuperKill', p['extended']['values']['weaponKillsSuper']['basic']['value']\n",
    "        if 'weaponKillsRelic' in p['extended']['values']:\n",
    "            print 'RelicKill', p['extended']['values']['weaponKillsRelic']['basic']['value']"
   ]
  },
  {
   "cell_type": "code",
   "execution_count": 37,
   "metadata": {
    "collapsed": false
   },
   "outputs": [
    {
     "data": {
      "text/plain": [
       "u'Titan'"
      ]
     },
     "execution_count": 37,
     "metadata": {},
     "output_type": "execute_result"
    }
   ],
   "source": [
    "reports[0]['entries'][0]['player']['characterClass']"
   ]
  },
  {
   "cell_type": "markdown",
   "metadata": {},
   "source": [
    "### No relic kills identified yet. Good news. Need more data to verify."
   ]
  },
  {
   "cell_type": "code",
   "execution_count": 40,
   "metadata": {
    "collapsed": true
   },
   "outputs": [],
   "source": [
    "url = BUNGIE + \"Stats/ActivityHistory/\" + AccountType + '/' + mid + '/' + cid + '/?mode=AllPvP&count=100'"
   ]
  },
  {
   "cell_type": "code",
   "execution_count": 41,
   "metadata": {
    "collapsed": true
   },
   "outputs": [],
   "source": [
    "r = requests.get(url, headers=HEADERS)"
   ]
  },
  {
   "cell_type": "code",
   "execution_count": 42,
   "metadata": {
    "collapsed": true
   },
   "outputs": [],
   "source": [
    "PvPinstanceId = [a['activityDetails']['instanceId'] for a in r.json()['Response']['data']['activities']]"
   ]
  },
  {
   "cell_type": "code",
   "execution_count": 43,
   "metadata": {
    "collapsed": false
   },
   "outputs": [
    {
     "data": {
      "text/plain": [
       "[u'6384227424',\n",
       " u'6384205568',\n",
       " u'6384180296',\n",
       " u'6384156839',\n",
       " u'6384137947',\n",
       " u'6384113384',\n",
       " u'6384093482',\n",
       " u'6384061436',\n",
       " u'5672390977',\n",
       " u'5672314277',\n",
       " u'5672211524',\n",
       " u'5672135925',\n",
       " u'5672066572',\n",
       " u'5671994123',\n",
       " u'5671912950',\n",
       " u'5671798580',\n",
       " u'5671398109',\n",
       " u'5671339957',\n",
       " u'5666894985',\n",
       " u'5590687308',\n",
       " u'5590584492',\n",
       " u'5590469761',\n",
       " u'5590360554',\n",
       " u'5590261044',\n",
       " u'5590162664',\n",
       " u'5590055525',\n",
       " u'5189669032',\n",
       " u'5189628259',\n",
       " u'5189590258',\n",
       " u'5189333485',\n",
       " u'5189288081',\n",
       " u'5189247487',\n",
       " u'5189213351',\n",
       " u'5189182654',\n",
       " u'5189146037',\n",
       " u'5189108722',\n",
       " u'5189074428',\n",
       " u'5189038058',\n",
       " u'5185578533',\n",
       " u'5185536906',\n",
       " u'5185486991',\n",
       " u'4984159852',\n",
       " u'4984134457',\n",
       " u'4633592110',\n",
       " u'4633537019',\n",
       " u'4633491089',\n",
       " u'4633435462',\n",
       " u'4633383304',\n",
       " u'4633328061',\n",
       " u'4633274711',\n",
       " u'4633216422',\n",
       " u'4633172136',\n",
       " u'4633106469',\n",
       " u'4633024151',\n",
       " u'4632965564',\n",
       " u'4632918863',\n",
       " u'4630077336',\n",
       " u'4630051645',\n",
       " u'4630027775',\n",
       " u'4629419143',\n",
       " u'4628529572',\n",
       " u'4617494801',\n",
       " u'4616043181',\n",
       " u'4614414529',\n",
       " u'4614340336',\n",
       " u'4614281706',\n",
       " u'4614216912',\n",
       " u'4595035741',\n",
       " u'4594990775',\n",
       " u'4594945438',\n",
       " u'4594896115',\n",
       " u'4594848228',\n",
       " u'4594800969',\n",
       " u'4594777792',\n",
       " u'4594730852',\n",
       " u'4594691105',\n",
       " u'4594633749',\n",
       " u'4594577176',\n",
       " u'4594526122',\n",
       " u'4594494131',\n",
       " u'4594431690',\n",
       " u'4594374313',\n",
       " u'4594328747',\n",
       " u'4594270703',\n",
       " u'4592045808',\n",
       " u'4592026652',\n",
       " u'4592015596',\n",
       " u'4591997541',\n",
       " u'4591979249',\n",
       " u'4591959475',\n",
       " u'4591938701',\n",
       " u'4591923715',\n",
       " u'4591903979',\n",
       " u'4591878941',\n",
       " u'4591856090',\n",
       " u'4591831688',\n",
       " u'4591805700',\n",
       " u'4591799307',\n",
       " u'4591773993',\n",
       " u'4591745567']"
      ]
     },
     "execution_count": 43,
     "metadata": {},
     "output_type": "execute_result"
    }
   ],
   "source": [
    "PvPinstanceId"
   ]
  },
  {
   "cell_type": "code",
   "execution_count": 44,
   "metadata": {
    "collapsed": true
   },
   "outputs": [],
   "source": [
    "reports = [getReport(iid) for iid in PvPinstanceId]"
   ]
  },
  {
   "cell_type": "code",
   "execution_count": 45,
   "metadata": {
    "collapsed": true
   },
   "outputs": [],
   "source": [
    "for r in reports:\n",
    "    for p in r['entries']:\n",
    "        if 'weaponKillsRelic' in p['extended']['values']:\n",
    "            print \"player Class\", p['player']['characterClass']\n",
    "            print 'RelicKill', p['extended']['values']['weaponKillsRelic']['basic']['value']"
   ]
  },
  {
   "cell_type": "code",
   "execution_count": 47,
   "metadata": {
    "collapsed": false
   },
   "outputs": [],
   "source": [
    "weaponsUsed = {}\n",
    "for r in reports:\n",
    "    for p in r['entries']:\n",
    "        for k in p['extended']['values'].keys():\n",
    "            if k.startswith(\"weaponKills\"):\n",
    "                weaponsUsed[k] = weaponsUsed.get(k, 0) + 1"
   ]
  },
  {
   "cell_type": "code",
   "execution_count": 48,
   "metadata": {
    "collapsed": false
   },
   "outputs": [
    {
     "data": {
      "text/plain": [
       "{u'weaponKillsAutoRifle': 280,\n",
       " u'weaponKillsFusionRifle': 48,\n",
       " u'weaponKillsGrenade': 578,\n",
       " u'weaponKillsHandCannon': 248,\n",
       " u'weaponKillsMachinegun': 249,\n",
       " u'weaponKillsMelee': 645,\n",
       " u'weaponKillsPrecisionKillsAutoRifle': 219,\n",
       " u'weaponKillsPrecisionKillsFusionRifle': 4,\n",
       " u'weaponKillsPrecisionKillsHandCannon': 171,\n",
       " u'weaponKillsPrecisionKillsMachinegun': 164,\n",
       " u'weaponKillsPrecisionKillsPulseRifle': 198,\n",
       " u'weaponKillsPrecisionKillsScoutRifle': 332,\n",
       " u'weaponKillsPrecisionKillsShotgun': 82,\n",
       " u'weaponKillsPrecisionKillsSideArm': 49,\n",
       " u'weaponKillsPrecisionKillsSniper': 348,\n",
       " u'weaponKillsPulseRifle': 234,\n",
       " u'weaponKillsRocketLauncher': 133,\n",
       " u'weaponKillsScoutRifle': 419,\n",
       " u'weaponKillsShotgun': 395,\n",
       " u'weaponKillsSideArm': 94,\n",
       " u'weaponKillsSniper': 422,\n",
       " u'weaponKillsSuper': 829,\n",
       " u'weaponKillsSword': 18}"
      ]
     },
     "execution_count": 48,
     "metadata": {},
     "output_type": "execute_result"
    }
   ],
   "source": [
    "weaponsUsed"
   ]
  },
  {
   "cell_type": "code",
   "execution_count": null,
   "metadata": {
    "collapsed": true
   },
   "outputs": [],
   "source": []
  }
 ],
 "metadata": {
  "kernelspec": {
   "display_name": "Python 2",
   "language": "python",
   "name": "python2"
  },
  "language_info": {
   "codemirror_mode": {
    "name": "ipython",
    "version": 2
   },
   "file_extension": ".py",
   "mimetype": "text/x-python",
   "name": "python",
   "nbconvert_exporter": "python",
   "pygments_lexer": "ipython2",
   "version": "2.7.13"
  }
 },
 "nbformat": 4,
 "nbformat_minor": 2
}
